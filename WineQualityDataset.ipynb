{
  "nbformat": 4,
  "nbformat_minor": 0,
  "metadata": {
    "colab": {
      "provenance": [],
      "authorship_tag": "ABX9TyPkughK/l4Gwwaf3kj91WMT",
      "include_colab_link": true
    },
    "kernelspec": {
      "name": "python3",
      "display_name": "Python 3"
    },
    "language_info": {
      "name": "python"
    }
  },
  "cells": [
    {
      "cell_type": "markdown",
      "metadata": {
        "id": "view-in-github",
        "colab_type": "text"
      },
      "source": [
        "<a href=\"https://colab.research.google.com/github/prnvvv/Machine-Learning/blob/main/WineQualityDataset.ipynb\" target=\"_parent\"><img src=\"https://colab.research.google.com/assets/colab-badge.svg\" alt=\"Open In Colab\"/></a>"
      ]
    },
    {
      "cell_type": "code",
      "execution_count": null,
      "metadata": {
        "id": "IPuwQfYUKdy4"
      },
      "outputs": [],
      "source": [
        "import pandas as pd\n",
        "from sklearn.model_selection import train_test_split\n",
        "from sklearn.preprocessing import LabelEncoder, StandardScaler\n",
        "from sklearn.ensemble import RandomForestRegressor\n",
        "from sklearn.ensemble import GradientBoostingRegressor\n",
        "import xgboost as xgb\n",
        "from sklearn.metrics import accuracy_score\n",
        "from sklearn.metrics import r2_score"
      ]
    },
    {
      "cell_type": "code",
      "source": [
        "dataFrame = pd.read_csv(\"winequality.csv\")"
      ],
      "metadata": {
        "id": "wSN_dxkbK30Y"
      },
      "execution_count": null,
      "outputs": []
    },
    {
      "cell_type": "code",
      "source": [
        "label = LabelEncoder()\n",
        "dataFrame[\"type_encoded\"] = label.fit_transform(dataFrame[\"type\"])"
      ],
      "metadata": {
        "id": "hkR9ld7qkMOv"
      },
      "execution_count": null,
      "outputs": []
    },
    {
      "cell_type": "code",
      "source": [
        "dataFrame.dropna(axis=0, inplace=True)\n"
      ],
      "metadata": {
        "id": "5SRj44mjVlyU"
      },
      "execution_count": null,
      "outputs": []
    },
    {
      "cell_type": "code",
      "source": [
        "features = dataFrame.columns.drop([\"type\", \"residual sugar\", \"density\", \"fixed acidity\", \"quality\"])\n",
        "X = dataFrame[features]\n",
        "y = dataFrame[\"quality\"]"
      ],
      "metadata": {
        "id": "pKhHtM91LC1Z"
      },
      "execution_count": null,
      "outputs": []
    },
    {
      "cell_type": "code",
      "source": [
        "train_X, test_X, train_y, test_y = train_test_split(X, y, test_size=0.2, random_state=1)"
      ],
      "metadata": {
        "id": "tXd_Oo2kLvOM"
      },
      "execution_count": null,
      "outputs": []
    },
    {
      "cell_type": "code",
      "source": [
        "DTC_model = RandomForestRegressor(random_state=1)\n",
        "DTC_model.fit(train_X, train_y)\n",
        "predictions = DTC_model.predict(test_X)\n"
      ],
      "metadata": {
        "id": "McqzhCGKMPQp"
      },
      "execution_count": null,
      "outputs": []
    },
    {
      "cell_type": "code",
      "source": [
        "print(f\"R2_score: {r2_score(test_y, predictions): .2f}\")\n",
        "\n"
      ],
      "metadata": {
        "colab": {
          "base_uri": "https://localhost:8080/"
        },
        "id": "qCOliwRIojOI",
        "outputId": "752d0d31-8b13-40a2-d373-c01c2929d1e1"
      },
      "execution_count": null,
      "outputs": [
        {
          "output_type": "stream",
          "name": "stdout",
          "text": [
            "R2_score:  0.53\n"
          ]
        }
      ]
    },
    {
      "cell_type": "code",
      "source": [
        "model = GradientBoostingRegressor(n_estimators=200, learning_rate=0.2, random_state=42)\n",
        "model.fit(train_X, train_y)\n",
        "predictions = model.predict(test_X)"
      ],
      "metadata": {
        "id": "foCD9LyAqHru"
      },
      "execution_count": null,
      "outputs": []
    },
    {
      "cell_type": "code",
      "source": [
        "print(f\"R2_score: {r2_score(test_y, predictions): .2f}\")"
      ],
      "metadata": {
        "id": "6S0L6iDZqPLL",
        "outputId": "0c8272c8-cb67-4b35-f096-c322240f6d1f",
        "colab": {
          "base_uri": "https://localhost:8080/"
        }
      },
      "execution_count": null,
      "outputs": [
        {
          "output_type": "stream",
          "name": "stdout",
          "text": [
            "R2_score:  0.42\n"
          ]
        }
      ]
    },
    {
      "cell_type": "code",
      "source": [
        "model = xgb.XGBRegressor(n_estimators=200, learning_rate=0.2, random_state=42)\n",
        "model.fit(train_X, train_y)\n",
        "predictions = model.predict(test_X)"
      ],
      "metadata": {
        "id": "pvnSKhZdqzwY"
      },
      "execution_count": null,
      "outputs": []
    },
    {
      "cell_type": "code",
      "source": [
        "print(f\"R2_score: {r2_score(test_y, predictions): .2f}\")"
      ],
      "metadata": {
        "id": "6i3ivjlyq7cs",
        "outputId": "51e60e5c-047a-48cb-db31-13d220676d71",
        "colab": {
          "base_uri": "https://localhost:8080/"
        }
      },
      "execution_count": null,
      "outputs": [
        {
          "output_type": "stream",
          "name": "stdout",
          "text": [
            "R2_score:  0.50\n"
          ]
        }
      ]
    }
  ]
}