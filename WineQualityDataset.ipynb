{
  "nbformat": 4,
  "nbformat_minor": 0,
  "metadata": {
    "colab": {
      "provenance": [],
      "authorship_tag": "ABX9TyOqGA0cYCmBxvW9TqBNnNKA",
      "include_colab_link": true
    },
    "kernelspec": {
      "name": "python3",
      "display_name": "Python 3"
    },
    "language_info": {
      "name": "python"
    }
  },
  "cells": [
    {
      "cell_type": "markdown",
      "metadata": {
        "id": "view-in-github",
        "colab_type": "text"
      },
      "source": [
        "<a href=\"https://colab.research.google.com/github/prnvvv/Machine-Learning/blob/main/WineQualityDataset.ipynb\" target=\"_parent\"><img src=\"https://colab.research.google.com/assets/colab-badge.svg\" alt=\"Open In Colab\"/></a>"
      ]
    },
    {
      "cell_type": "code",
      "execution_count": 154,
      "metadata": {
        "id": "IPuwQfYUKdy4"
      },
      "outputs": [],
      "source": [
        "import pandas as pd\n",
        "from sklearn.model_selection import train_test_split\n",
        "from sklearn.preprocessing import LabelEncoder, StandardScaler\n",
        "from sklearn.ensemble import RandomForestRegressor\n",
        "from sklearn.tree import DecisionTreeRegressor\n",
        "from sklearn.linear_model import LinearRegression\n",
        "from sklearn.linear_model import Ridge\n",
        "from sklearn.svm import SVR\n",
        "from sklearn.metrics import accuracy_score\n",
        "from sklearn.metrics import r2_score"
      ]
    },
    {
      "cell_type": "code",
      "source": [
        "dataFrame = pd.read_csv(\"winequality.csv\")"
      ],
      "metadata": {
        "id": "wSN_dxkbK30Y"
      },
      "execution_count": 147,
      "outputs": []
    },
    {
      "cell_type": "code",
      "source": [
        "label = LabelEncoder()\n",
        "dataFrame[\"type_encoded\"] = label.fit_transform(dataFrame[\"type\"])"
      ],
      "metadata": {
        "id": "hkR9ld7qkMOv"
      },
      "execution_count": 135,
      "outputs": []
    },
    {
      "cell_type": "code",
      "source": [
        "dataFrame.dropna(axis=0, inplace=True)\n"
      ],
      "metadata": {
        "id": "5SRj44mjVlyU"
      },
      "execution_count": 130,
      "outputs": []
    },
    {
      "cell_type": "code",
      "source": [
        "features = dataFrame.columns.drop([\"type\", \"residual sugar\", \"density\", \"fixed acidity\", \"quality\"])\n",
        "X = dataFrame[features]\n",
        "y = dataFrame[\"quality\"]"
      ],
      "metadata": {
        "id": "pKhHtM91LC1Z"
      },
      "execution_count": 131,
      "outputs": []
    },
    {
      "cell_type": "code",
      "source": [
        "train_X, test_X, train_y, test_y = train_test_split(X, y, test_size=0.2, random_state=1)"
      ],
      "metadata": {
        "id": "tXd_Oo2kLvOM"
      },
      "execution_count": 132,
      "outputs": []
    },
    {
      "cell_type": "code",
      "source": [
        "DTC_model = RandomForestRegressor(random_state=1)\n",
        "DTC_model.fit(train_X, train_y)\n",
        "predictions = DTC_model.predict(test_X)\n"
      ],
      "metadata": {
        "id": "McqzhCGKMPQp"
      },
      "execution_count": 138,
      "outputs": []
    },
    {
      "cell_type": "code",
      "source": [
        "print(f\"R2_score: {r2_score(test_y, predictions): .2f}\")\n",
        "\n"
      ],
      "metadata": {
        "id": "qCOliwRIojOI",
        "outputId": "752d0d31-8b13-40a2-d373-c01c2929d1e1",
        "colab": {
          "base_uri": "https://localhost:8080/"
        }
      },
      "execution_count": 139,
      "outputs": [
        {
          "output_type": "stream",
          "name": "stdout",
          "text": [
            "R2_score:  0.53\n"
          ]
        }
      ]
    },
    {
      "cell_type": "code",
      "source": [
        "DTC_model = DecisionTreeRegressor(random_state=1)\n",
        "DTC_model.fit(train_X, train_y)\n",
        "predictions = DTC_model.predict(test_X)"
      ],
      "metadata": {
        "id": "_TLA8YYZoa1H"
      },
      "execution_count": 140,
      "outputs": []
    },
    {
      "cell_type": "code",
      "source": [
        "print(f\"R2_score: {r2_score(test_y, predictions): .2f}\")\n",
        "\n"
      ],
      "metadata": {
        "colab": {
          "base_uri": "https://localhost:8080/"
        },
        "id": "nwa8zBUbPqRj",
        "outputId": "bdd36be1-0caa-4308-e173-62c696339c4f"
      },
      "execution_count": 141,
      "outputs": [
        {
          "output_type": "stream",
          "name": "stdout",
          "text": [
            "R2_score:  0.14\n"
          ]
        }
      ]
    },
    {
      "cell_type": "code",
      "source": [
        "model = LinearRegression()\n",
        "model.fit(train_X, train_y)\n",
        "predictions = model.predict(test_X)"
      ],
      "metadata": {
        "id": "UrWvGb_Ooz8j"
      },
      "execution_count": 144,
      "outputs": []
    },
    {
      "cell_type": "code",
      "source": [
        "print(f\"R2_score: {r2_score(test_y, predictions): .2f}\")\n",
        "\n"
      ],
      "metadata": {
        "id": "DaMc2-rao2xI",
        "outputId": "bd47cbe1-6a3c-47fc-b332-dc0ac953853c",
        "colab": {
          "base_uri": "https://localhost:8080/"
        }
      },
      "execution_count": 145,
      "outputs": [
        {
          "output_type": "stream",
          "name": "stdout",
          "text": [
            "R2_score:  0.28\n"
          ]
        }
      ]
    },
    {
      "cell_type": "code",
      "source": [
        "model = Ridge(alpha=1.0)\n",
        "model.fit(train_X, train_y)\n",
        "predictions = model.predict(test_X)"
      ],
      "metadata": {
        "id": "4TRuYErko_qb"
      },
      "execution_count": 150,
      "outputs": []
    },
    {
      "cell_type": "code",
      "source": [
        "print(f\"R2_score: {r2_score(test_y, predictions): .2f}\")"
      ],
      "metadata": {
        "id": "Ubnrzu06pPlA",
        "outputId": "f4d4fd8f-b86c-47bb-a6a3-ecf605918aad",
        "colab": {
          "base_uri": "https://localhost:8080/"
        }
      },
      "execution_count": 151,
      "outputs": [
        {
          "output_type": "stream",
          "name": "stdout",
          "text": [
            "R2_score:  0.28\n"
          ]
        }
      ]
    },
    {
      "cell_type": "code",
      "source": [
        "model = SVR(kernel='rbf', C=100, gamma=0.1, epsilon=0.1)\n",
        "model.fit(train_X, train_y)\n",
        "predictions = model.predict(test_X)"
      ],
      "metadata": {
        "id": "Y1kBbEofplew"
      },
      "execution_count": 155,
      "outputs": []
    },
    {
      "cell_type": "code",
      "source": [
        "print(f\"R2_score: {r2_score(test_y, predictions): .2f}\")"
      ],
      "metadata": {
        "id": "RKyO0Ahdpp81",
        "outputId": "be406bb4-7a77-4c71-ebd4-4a5b8b15a86b",
        "colab": {
          "base_uri": "https://localhost:8080/"
        }
      },
      "execution_count": 156,
      "outputs": [
        {
          "output_type": "stream",
          "name": "stdout",
          "text": [
            "R2_score: -0.10\n"
          ]
        }
      ]
    }
  ]
}